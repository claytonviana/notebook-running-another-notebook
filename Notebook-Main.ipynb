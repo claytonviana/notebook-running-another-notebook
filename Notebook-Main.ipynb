{
 "cells": [
  {
   "cell_type": "code",
   "execution_count": 12,
   "metadata": {},
   "outputs": [],
   "source": [
    "# @hidden_cell\n",
    "# The project token is an authorization token that is used to access project resources like data sources, connections, and used by platform APIs.\n",
    "from project_lib import Project\n",
    "project = Project(project_id='54fcXXX5-XXXX-XXXX-XXXX-0175d16a8077', project_access_token='p-37d9d3f68efc8fXXXXXXXX938bf0XXXXXX5e064b7')\n",
    "pc = project.project_context\n"
   ]
  },
  {
   "cell_type": "code",
   "execution_count": 13,
   "metadata": {},
   "outputs": [],
   "source": [
    "PROJECT_ID='54fcXXX5-XXXX-XXXX-XXXX-0175d16a8077'\n",
    "PROJECT_ACCESS_TOKEN='p-37d9d3f68efc8fXXXXXXXX938bf0XXXXXX5e064b7'\n",
    "COS_ENDPOINT = project.get_metadata()['entity']['storage']['properties']['endpoint_url']\n",
    "COS_ACCESS_KEY_ID = project.get_metadata()['entity']['storage']['properties']['credentials']['editor']['access_key_id']\n",
    "COS_SECRET_ACCESS_KEY = project.get_metadata()['entity']['storage']['properties']['credentials']['editor']['secret_access_key']\n",
    "BUCKET_NAME = project.get_project_bucket_name()"
   ]
  },
  {
   "cell_type": "code",
   "execution_count": 14,
   "metadata": {},
   "outputs": [],
   "source": [
    "import boto3, sys, json\n",
    "from project_lib.utils import ProjectHandle\n",
    "from project_lib.proxies import APIProxyFactory\n",
    "local_handle = ProjectHandle(PROJECT_ID,PROJECT_ACCESS_TOKEN)\n",
    "local_api_proxy_factory = APIProxyFactory(local_handle)\n",
    "local_assetsAPI = local_api_proxy_factory.newAssetsAPI()\n",
    "notebook_list = []\n",
    "for nb in project.get_assets():\n",
    "    if (nb.get(\"type\") == 'notebook'):\n",
    "        local_nb_asset = local_assetsAPI.fetch_asset(nb['asset_id'])\n",
    "        notebook_list.append([local_nb_asset['metadata'].get(\"name\"), local_nb_asset['attachments'][0].get(\"object_key\")])\n",
    "cos_client = boto3.client('s3', aws_access_key_id=COS_ACCESS_KEY_ID, aws_secret_access_key=COS_SECRET_ACCESS_KEY,endpoint_url=COS_ENDPOINT)\n",
    "for nb in notebook_list:\n",
    "   file = cos_client.get_object(Bucket = BUCKET_NAME, Key = nb[1])\n",
    "   jfile = json.loads(file[\"Body\"].read())\n",
    "   script_filename = nb[0] + '.py'\n",
    "   script_file = open(script_filename, 'w') \n",
    "   script_file.write(\"#COS-filename \"+nb[1]+\"\\n\")\n",
    "   if jfile[\"nbformat\"] >=4:\n",
    "      for i,cell in enumerate(jfile[\"cells\"]):\n",
    "         script_file.write(\"#cell \"+str(i)+\"\\n\")\n",
    "         for line in cell[\"source\"]:\n",
    "            script_file.write(line)\n",
    "         script_file.write('\\n\\n')\n",
    "   else:\n",
    "      for i,cell in enumerate(j[\"worksheets\"][0][\"cells\"]):\n",
    "         script_file.write(\"#cell \"+str(i)+\"\\n\")\n",
    "         for line in cell[\"input\"]:\n",
    "             script_file.write(line)\n",
    "         script_file.write('\\n\\n')\n",
    "   script_file.close() "
   ]
  },
  {
   "cell_type": "code",
   "execution_count": 15,
   "metadata": {},
   "outputs": [
    {
     "name": "stdout",
     "output_type": "stream",
     "text": [
      "total 12\r\n",
      "-rw-rw---- 1 wsuser watsonstudio 2483 Aug 31 19:43 Notebook-Main.py\r\n",
      "-rw-rw---- 1 wsuser watsonstudio  200 Aug 31 19:43 Script-Notebook1.py\r\n",
      "-rw-rw---- 1 wsuser watsonstudio  168 Aug 31 19:43 SubNotebook2-Python.py\r\n"
     ]
    }
   ],
   "source": [
    "!ls -lrt"
   ]
  },
  {
   "cell_type": "code",
   "execution_count": 16,
   "metadata": {},
   "outputs": [
    {
     "name": "stdout",
     "output_type": "stream",
     "text": [
      "Script Notebook 1\n",
      "Script 1 completed!\n"
     ]
    }
   ],
   "source": [
    "%run Script-Notebook1.py"
   ]
  },
  {
   "cell_type": "code",
   "execution_count": 17,
   "metadata": {},
   "outputs": [
    {
     "name": "stdout",
     "output_type": "stream",
     "text": [
      "54987\n"
     ]
    },
    {
     "data": {
      "text/plain": [
       "2"
      ]
     },
     "execution_count": 17,
     "metadata": {},
     "output_type": "execute_result"
    }
   ],
   "source": [
    "simple_function()"
   ]
  },
  {
   "cell_type": "code",
   "execution_count": 18,
   "metadata": {},
   "outputs": [
    {
     "name": "stdout",
     "output_type": "stream",
     "text": [
      "Script SubNotebook2\n"
     ]
    }
   ],
   "source": [
    "%run SubNotebook2-Python.py"
   ]
  },
  {
   "cell_type": "code",
   "execution_count": 19,
   "metadata": {},
   "outputs": [
    {
     "name": "stdout",
     "output_type": "stream",
     "text": [
      "#COS-filename notebook/Script-Notebook1_MudxEbxxc.ipynb\r\n",
      "#cell 0\r\n",
      "print (\"Script Notebook 1\")\r\n",
      "countItens = 3\r\n",
      "def simple_function():\r\n",
      "    print(54987)\r\n",
      "    return 2\r\n",
      "\r\n",
      "#cell 1\r\n",
      "print (\"Script 1 completed!\")\r\n",
      "\r\n"
     ]
    }
   ],
   "source": [
    "!cat Script-Notebook1.py"
   ]
  }
 ],
 "metadata": {
  "kernelspec": {
   "display_name": "Python 3.8",
   "language": "python",
   "name": "python3"
  },
  "language_info": {
   "codemirror_mode": {
    "name": "ipython",
    "version": 3
   },
   "file_extension": ".py",
   "mimetype": "text/x-python",
   "name": "python",
   "nbconvert_exporter": "python",
   "pygments_lexer": "ipython3",
   "version": "3.8.10"
  }
 },
 "nbformat": 4,
 "nbformat_minor": 1
}
